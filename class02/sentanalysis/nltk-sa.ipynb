{
 "cells": [
  {
   "cell_type": "code",
   "execution_count": null,
   "metadata": {
    "colab": {
     "base_uri": "https://localhost:8080/"
    },
    "executionInfo": {
     "elapsed": 599,
     "status": "ok",
     "timestamp": 1604695805300,
     "user": {
      "displayName": "Edwin Nelson Montoya",
      "photoUrl": "https://lh3.googleusercontent.com/a-/AOh14GjILjSTWuElShYykArf3wP0dfM9Ii9pN9Ff9hFxGQ=s64",
      "userId": "10708817807819244709"
     },
     "user_tz": 300
    },
    "id": "f3VxoK9iRBj_",
    "outputId": "e41c7b0d-4846-4dde-c71c-fb6b2c3df946"
   },
   "outputs": [],
   "source": [
    "import nltk\n",
    "nltk.download('subjectivity')\n",
    "nltk.download('punkt')\n",
    "nltk.download('punkt_tab')\n",
    "nltk.download('vader_lexicon')"
   ]
  },
  {
   "cell_type": "code",
   "execution_count": null,
   "metadata": {
    "colab": {
     "base_uri": "https://localhost:8080/"
    },
    "executionInfo": {
     "elapsed": 444,
     "status": "ok",
     "timestamp": 1604694859359,
     "user": {
      "displayName": "Edwin Nelson Montoya",
      "photoUrl": "https://lh3.googleusercontent.com/a-/AOh14GjILjSTWuElShYykArf3wP0dfM9Ii9pN9Ff9hFxGQ=s64",
      "userId": "10708817807819244709"
     },
     "user_tz": 300
    },
    "id": "sCgSNr2qQsN6",
    "outputId": "ebfb8288-a0b9-470f-c573-2fcb085fa9b5"
   },
   "outputs": [],
   "source": [
    "from nltk.classify import NaiveBayesClassifier\n",
    "from nltk.corpus import subjectivity\n",
    "from nltk.sentiment import SentimentAnalyzer\n",
    "from nltk.sentiment.util import *\n",
    "n_instances = 100\n",
    "subj_docs = [(sent, 'subj') for sent in subjectivity.sents(categories='subj')[:n_instances]]\n",
    "obj_docs = [(sent, 'obj') for sent in subjectivity.sents(categories='obj')[:n_instances]]\n",
    "len(subj_docs), len(obj_docs)\n",
    "(100, 100)"
   ]
  },
  {
   "cell_type": "code",
   "execution_count": null,
   "metadata": {
    "colab": {
     "base_uri": "https://localhost:8080/"
    },
    "executionInfo": {
     "elapsed": 398,
     "status": "ok",
     "timestamp": 1604694949736,
     "user": {
      "displayName": "Edwin Nelson Montoya",
      "photoUrl": "https://lh3.googleusercontent.com/a-/AOh14GjILjSTWuElShYykArf3wP0dfM9Ii9pN9Ff9hFxGQ=s64",
      "userId": "10708817807819244709"
     },
     "user_tz": 300
    },
    "id": "f0YF4XKuQ5SK",
    "outputId": "9269b5fd-6fe0-4041-9338-a0e5fdb70526"
   },
   "outputs": [],
   "source": [
    "subj_docs[0]"
   ]
  },
  {
   "cell_type": "code",
   "execution_count": null,
   "metadata": {
    "colab": {
     "base_uri": "https://localhost:8080/"
    },
    "executionInfo": {
     "elapsed": 401,
     "status": "ok",
     "timestamp": 1604694969677,
     "user": {
      "displayName": "Edwin Nelson Montoya",
      "photoUrl": "https://lh3.googleusercontent.com/a-/AOh14GjILjSTWuElShYykArf3wP0dfM9Ii9pN9Ff9hFxGQ=s64",
      "userId": "10708817807819244709"
     },
     "user_tz": 300
    },
    "id": "fUyimb48RLko",
    "outputId": "78ef224b-2fe0-4acd-c716-9d8ce683bc3a"
   },
   "outputs": [],
   "source": [
    "obj_docs[0]"
   ]
  },
  {
   "cell_type": "code",
   "execution_count": null,
   "metadata": {
    "executionInfo": {
     "elapsed": 403,
     "status": "ok",
     "timestamp": 1604695235179,
     "user": {
      "displayName": "Edwin Nelson Montoya",
      "photoUrl": "https://lh3.googleusercontent.com/a-/AOh14GjILjSTWuElShYykArf3wP0dfM9Ii9pN9Ff9hFxGQ=s64",
      "userId": "10708817807819244709"
     },
     "user_tz": 300
    },
    "id": "JbNCVxPBRgsk"
   },
   "outputs": [],
   "source": [
    "# We separately split subjective and objective instances to keep a balanced uniform class distribution \n",
    "# in both train and test sets.\n",
    "\n",
    "# entrenar mi propio modelo\n",
    "# Entrenamiento, 80 docs\n",
    "train_subj_docs = subj_docs[:80]\n",
    "# Pruebas, 20 docs\n",
    "test_subj_docs = subj_docs[80:100]\n",
    "\n",
    "# Entrenamiento, 80 docs\n",
    "train_obj_docs = obj_docs[:80]\n",
    "# Pruebas, 20 docs\n",
    "test_obj_docs = obj_docs[80:100]\n",
    "\n",
    "training_docs = train_subj_docs+train_obj_docs\n",
    "testing_docs = test_subj_docs+test_obj_docs"
   ]
  },
  {
   "cell_type": "code",
   "execution_count": null,
   "metadata": {
    "executionInfo": {
     "elapsed": 406,
     "status": "ok",
     "timestamp": 1604695257265,
     "user": {
      "displayName": "Edwin Nelson Montoya",
      "photoUrl": "https://lh3.googleusercontent.com/a-/AOh14GjILjSTWuElShYykArf3wP0dfM9Ii9pN9Ff9hFxGQ=s64",
      "userId": "10708817807819244709"
     },
     "user_tz": 300
    },
    "id": "-2Kt9FSrShh-"
   },
   "outputs": [],
   "source": [
    "sentim_analyzer = SentimentAnalyzer()\n",
    "all_words_neg = sentim_analyzer.all_words([mark_negation(doc) for doc in training_docs])"
   ]
  },
  {
   "cell_type": "code",
   "execution_count": null,
   "metadata": {
    "colab": {
     "base_uri": "https://localhost:8080/"
    },
    "executionInfo": {
     "elapsed": 436,
     "status": "ok",
     "timestamp": 1604695388679,
     "user": {
      "displayName": "Edwin Nelson Montoya",
      "photoUrl": "https://lh3.googleusercontent.com/a-/AOh14GjILjSTWuElShYykArf3wP0dfM9Ii9pN9Ff9hFxGQ=s64",
      "userId": "10708817807819244709"
     },
     "user_tz": 300
    },
    "id": "9qQlJ1SySm7s",
    "outputId": "ad5ef3de-9462-49d7-d0ae-27279b9b7c73"
   },
   "outputs": [],
   "source": [
    "# We use simple unigram word features, handling negation:\n",
    "unigram_feats = sentim_analyzer.unigram_word_feats(all_words_neg, min_freq=4)\n",
    "print(len(unigram_feats))\n",
    "sentim_analyzer.add_feat_extractor(extract_unigram_feats, unigrams=unigram_feats)"
   ]
  },
  {
   "cell_type": "code",
   "execution_count": null,
   "metadata": {
    "executionInfo": {
     "elapsed": 381,
     "status": "ok",
     "timestamp": 1604695422308,
     "user": {
      "displayName": "Edwin Nelson Montoya",
      "photoUrl": "https://lh3.googleusercontent.com/a-/AOh14GjILjSTWuElShYykArf3wP0dfM9Ii9pN9Ff9hFxGQ=s64",
      "userId": "10708817807819244709"
     },
     "user_tz": 300
    },
    "id": "N-6ISR4cTCbS"
   },
   "outputs": [],
   "source": [
    "# We apply features to obtain a feature-value representation of our datasets:\n",
    "\n",
    "training_set = sentim_analyzer.apply_features(training_docs)\n",
    "test_set = sentim_analyzer.apply_features(testing_docs)"
   ]
  },
  {
   "cell_type": "code",
   "execution_count": null,
   "metadata": {
    "colab": {
     "base_uri": "https://localhost:8080/"
    },
    "executionInfo": {
     "elapsed": 536,
     "status": "ok",
     "timestamp": 1604695466957,
     "user": {
      "displayName": "Edwin Nelson Montoya",
      "photoUrl": "https://lh3.googleusercontent.com/a-/AOh14GjILjSTWuElShYykArf3wP0dfM9Ii9pN9Ff9hFxGQ=s64",
      "userId": "10708817807819244709"
     },
     "user_tz": 300
    },
    "id": "VvSKFFXRTPOx",
    "outputId": "5a45d612-5c91-412c-f9b6-e883678a9e9e"
   },
   "outputs": [],
   "source": [
    "# We can now train our classifier on the training set, and subsequently output the evaluation results:\n",
    "\n",
    "trainer = NaiveBayesClassifier.train\n",
    "classifier = sentim_analyzer.train(trainer, training_set)\n",
    "for key,value in sorted(sentim_analyzer.evaluate(test_set).items()):\n",
    "    print('{0}: {1}'.format(key, value))"
   ]
  },
  {
   "cell_type": "code",
   "execution_count": null,
   "metadata": {
    "executionInfo": {
     "elapsed": 362,
     "status": "ok",
     "timestamp": 1604695626243,
     "user": {
      "displayName": "Edwin Nelson Montoya",
      "photoUrl": "https://lh3.googleusercontent.com/a-/AOh14GjILjSTWuElShYykArf3wP0dfM9Ii9pN9Ff9hFxGQ=s64",
      "userId": "10708817807819244709"
     },
     "user_tz": 300
    },
    "id": "JI1Xl7KyTaGK"
   },
   "outputs": [],
   "source": [
    "# Vader\n",
    "from nltk.sentiment.vader import SentimentIntensityAnalyzer\n",
    "sentences = [\"VADER is smart, handsome, and funny.\", # positive sentence example\n",
    "    \"VADER is smart, handsome, and funny!\", # punctuation emphasis handled correctly (sentiment intensity adjusted)\n",
    "    \"VADER is very smart, handsome, and funny.\",  # booster words handled correctly (sentiment intensity adjusted)\n",
    "    \"VADER is VERY SMART, handsome, and FUNNY.\",  # emphasis for ALLCAPS handled\n",
    "    \"VADER is VERY SMART, handsome, and FUNNY!!!\",# combination of signals - VADER appropriately adjusts intensity\n",
    "    \"VADER is VERY SMART, really handsome, and INCREDIBLY FUNNY!!!\",# booster words & punctuation make this close to ceiling for score\n",
    "    \"The book was good.\",         # positive sentence\n",
    "    \"The book was kind of good.\", # qualified positive sentence is handled correctly (intensity adjusted)\n",
    "    \"The plot was good, but the characters are uncompelling and the dialog is not great.\", # mixed negation sentence\n",
    "    \"A really bad, horrible book.\",       # negative sentence with booster words\n",
    "    \"At least it isn't a horrible book.\", # negated negative sentence with contraction\n",
    "    \":) and :D\",     # emoticons handled\n",
    "    \"\",              # an empty string is correctly handled\n",
    "    \"Today sux\",     #  negative slang handled\n",
    "    \"Today sux!\",    #  negative slang with punctuation emphasis handled\n",
    "    \"Today SUX!\",    #  negative slang with capitalization emphasis\n",
    "    \"Today kinda sux! But I'll get by, lol\" # mixed sentiment example with slang and constrastive conjunction \"but\"\n",
    "]"
   ]
  },
  {
   "cell_type": "code",
   "execution_count": null,
   "metadata": {
    "executionInfo": {
     "elapsed": 388,
     "status": "ok",
     "timestamp": 1604695646878,
     "user": {
      "displayName": "Edwin Nelson Montoya",
      "photoUrl": "https://lh3.googleusercontent.com/a-/AOh14GjILjSTWuElShYykArf3wP0dfM9Ii9pN9Ff9hFxGQ=s64",
      "userId": "10708817807819244709"
     },
     "user_tz": 300
    },
    "id": "b-ccPotuUBA4"
   },
   "outputs": [],
   "source": [
    "paragraph = \"It was one of the worst movies I've seen, despite good reviews. \\\n",
    " Unbelievably bad acting!! Poor direction. VERY poor production. \\\n",
    " The movie was bad. Very bad movie. VERY bad movie. VERY BAD movie. VERY BAD movie!\""
   ]
  },
  {
   "cell_type": "code",
   "execution_count": null,
   "metadata": {
    "executionInfo": {
     "elapsed": 431,
     "status": "ok",
     "timestamp": 1604695700731,
     "user": {
      "displayName": "Edwin Nelson Montoya",
      "photoUrl": "https://lh3.googleusercontent.com/a-/AOh14GjILjSTWuElShYykArf3wP0dfM9Ii9pN9Ff9hFxGQ=s64",
      "userId": "10708817807819244709"
     },
     "user_tz": 300
    },
    "id": "xMFpMLQPUGDl"
   },
   "outputs": [],
   "source": [
    "from nltk import tokenize\n",
    "lines_list = tokenize.sent_tokenize(paragraph)\n",
    "sentences.extend(lines_list)"
   ]
  },
  {
   "cell_type": "code",
   "execution_count": null,
   "metadata": {
    "executionInfo": {
     "elapsed": 438,
     "status": "ok",
     "timestamp": 1604695764801,
     "user": {
      "displayName": "Edwin Nelson Montoya",
      "photoUrl": "https://lh3.googleusercontent.com/a-/AOh14GjILjSTWuElShYykArf3wP0dfM9Ii9pN9Ff9hFxGQ=s64",
      "userId": "10708817807819244709"
     },
     "user_tz": 300
    },
    "id": "-xVghq-yUN2S"
   },
   "outputs": [],
   "source": [
    "tricky_sentences = [\n",
    "    \"Most automated sentiment analysis tools are shit.\",\n",
    "    \"VADER sentiment analysis is the shit.\",\n",
    "    \"Sentiment analysis has never been good.\",\n",
    "    \"Sentiment analysis with VADER has never been this good.\",\n",
    "    \"Warren Beatty has never been so entertaining.\",\n",
    "    \"I won't say that the movie is astounding and I wouldn't claim that \\\n",
    "    the movie is too banal either.\",\n",
    "    \"I like to hate Michael Bay films, but I couldn't fault this one\",\n",
    "    \"It's one thing to watch an Uwe Boll film, but another thing entirely \\\n",
    "    to pay for it\",\n",
    "    \"The movie was too good\",\n",
    "    \"This movie was actually neither that funny, nor super witty.\",\n",
    "    \"This movie doesn't care about cleverness, wit or any other kind of \\\n",
    "    intelligent humor.\",\n",
    "    \"Those who find ugly meanings in beautiful things are corrupt without \\\n",
    "    being charming.\",\n",
    "    \"There are slow and repetitive parts, BUT it has just enough spice to \\\n",
    "    keep it interesting.\",\n",
    "    \"The script is not fantastic, but the acting is decent and the cinematography \\\n",
    "    is EXCELLENT!\",\n",
    "    \"Roger Dodger is one of the most compelling variations on this theme.\",\n",
    "    \"Roger Dodger is one of the least compelling variations on this theme.\",\n",
    "    \"Roger Dodger is at least compelling as a variation on the theme.\",\n",
    "    \"they fall in love with the product\",\n",
    "    \"but then it breaks\",\n",
    "    \"usually around the time the 90 day warranty expires\",\n",
    "    \"the twin towers collapsed today\",\n",
    "    \"However, Mr. Carter solemnly argues, his client carried out the kidnapping \\\n",
    "    under orders and in the ''least offensive way possible.''\"\n",
    " ]"
   ]
  },
  {
   "cell_type": "code",
   "execution_count": null,
   "metadata": {
    "colab": {
     "base_uri": "https://localhost:8080/"
    },
    "executionInfo": {
     "elapsed": 404,
     "status": "ok",
     "timestamp": 1604695813811,
     "user": {
      "displayName": "Edwin Nelson Montoya",
      "photoUrl": "https://lh3.googleusercontent.com/a-/AOh14GjILjSTWuElShYykArf3wP0dfM9Ii9pN9Ff9hFxGQ=s64",
      "userId": "10708817807819244709"
     },
     "user_tz": 300
    },
    "id": "BiZpLIloUi1c",
    "outputId": "70841f53-6c3c-4e09-f113-78720f428957"
   },
   "outputs": [],
   "source": [
    " sentences.extend(tricky_sentences)\n",
    " sid = SentimentIntensityAnalyzer()\n",
    " for sentence in sentences:\n",
    "     print(sentence)\n",
    "     ss = sid.polarity_scores(sentence)\n",
    "     for k in sorted(ss):\n",
    "         print('{0}: {1}, '.format(k, ss[k]), end='')\n",
    "     print()"
   ]
  }
 ],
 "metadata": {
  "colab": {
   "authorship_tag": "ABX9TyOABjQ29En00vXGDXGhVODw",
   "name": "Untitled1.ipynb",
   "provenance": []
  },
  "kernelspec": {
   "display_name": "Python 3",
   "name": "python3"
  }
 },
 "nbformat": 4,
 "nbformat_minor": 0
}
