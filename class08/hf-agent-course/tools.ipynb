{
  "cells": [
    {
      "cell_type": "markdown",
      "metadata": {
        "id": "K9B-sQ_Q4O6Z"
      },
      "source": [
        "# Tools in LlamaIndex\n",
        "\n",
        "\n",
        "This notebook is part of the [Hugging Face Agents Course](https://www.hf.co/learn/agents-course), a free Course from beginner to expert, where you learn to build Agents.\n",
        "\n",
        "![Agents course share](https://huggingface.co/datasets/agents-course/course-images/resolve/main/en/communication/share.png)\n",
        "\n",
        "## Let's install the dependencies\n",
        "\n",
        "We will install the dependencies for this unit."
      ]
    },
    {
      "cell_type": "code",
      "execution_count": null,
      "metadata": {
        "id": "utqPXiuY4O6b"
      },
      "outputs": [],
      "source": [
        "#!pip install llama-index datasets llama-index-callbacks-arize-phoenix llama-index-vector-stores-chroma llama-index-llms-huggingface-api -U -q\n",
        "#!pip install llama-index-tools-google"
      ]
    },
    {
      "cell_type": "markdown",
      "metadata": {
        "id": "viF7Ut9D4O6c"
      },
      "source": [
        "And, let's log in to Hugging Face to use serverless Inference APIs."
      ]
    },
    {
      "cell_type": "code",
      "execution_count": null,
      "metadata": {
        "id": "8Xyl_z7c4O6d"
      },
      "outputs": [],
      "source": [
        "from huggingface_hub import login\n",
        "\n",
        "#login()"
      ]
    },
    {
      "cell_type": "code",
      "execution_count": null,
      "metadata": {},
      "outputs": [],
      "source": [
        "# api key from env\n",
        "import os\n",
        "HF_TOKEN = os.environ.get(\"HF_TOKEN\")"
      ]
    },
    {
      "cell_type": "markdown",
      "metadata": {
        "id": "wCFVx42c4O6d"
      },
      "source": [
        "## Creating a FunctionTool\n",
        "\n",
        "Let's create a basic `FunctionTool` and call it."
      ]
    },
    {
      "cell_type": "code",
      "execution_count": null,
      "metadata": {
        "id": "80SlZzU64O6e"
      },
      "outputs": [],
      "source": [
        "from llama_index.core.tools import FunctionTool\n",
        "\n",
        "\n",
        "def get_weather(location: str) -> str:\n",
        "    \"\"\"Useful for getting the weather for a given location.\"\"\"\n",
        "    print(f\"Getting weather for {location}\")\n",
        "    return f\"The weather in {location} is sunny\"\n",
        "\n",
        "\n",
        "tool = FunctionTool.from_defaults(\n",
        "    get_weather,\n",
        "    name=\"my_weather_tool\",\n",
        "    description=\"Useful for getting the weather for a given location.\",\n",
        ")\n",
        "tool.call(\"Medellín\")"
      ]
    },
    {
      "cell_type": "markdown",
      "metadata": {
        "id": "1Es_u7f-4O6f"
      },
      "source": [
        "## Creating a QueryEngineTool\n",
        "\n",
        "Let's now re-use the `QueryEngine` we defined in the [previous unit on tools](/tools.ipynb) and convert it into a `QueryEngineTool`."
      ]
    },
    {
      "cell_type": "code",
      "execution_count": null,
      "metadata": {
        "id": "cOXIrEKD4O6g",
        "outputId": "b16c24fc-cd39-4895-fabb-ff17b798bff4"
      },
      "outputs": [],
      "source": [
        "import chromadb\n",
        "\n",
        "from llama_index.core import VectorStoreIndex\n",
        "from llama_index.llms.huggingface_api import HuggingFaceInferenceAPI\n",
        "from llama_index.embeddings.huggingface_api import HuggingFaceInferenceAPIEmbedding\n",
        "from llama_index.core.tools import QueryEngineTool\n",
        "from llama_index.vector_stores.chroma import ChromaVectorStore\n",
        "\n",
        "db = chromadb.PersistentClient(path=\"./bob_chroma_db\")\n",
        "chroma_collection = db.get_or_create_collection(\"bob\")\n",
        "vector_store = ChromaVectorStore(chroma_collection=chroma_collection)\n",
        "embed_model = HuggingFaceInferenceAPIEmbedding(model_name=\"BAAI/bge-small-en-v1.5\")\n",
        "llm = HuggingFaceInferenceAPI(model_name=\"meta-llama/Llama-3.2-3B-Instruct\")\n",
        "index = VectorStoreIndex.from_vector_store(\n",
        "    vector_store=vector_store, embed_model=embed_model\n",
        ")\n",
        "query_engine = index.as_query_engine(llm=llm)\n",
        "tool = QueryEngineTool.from_defaults(\n",
        "    query_engine=query_engine,\n",
        "    name=\"some useful name\",\n",
        "    description=\"some useful description\",\n",
        ")\n",
        "await tool.acall(\n",
        "    \"Responds about research on the impact of AI on the future of work and society?\"\n",
        ")"
      ]
    },
    {
      "cell_type": "markdown",
      "metadata": {
        "id": "Hip3OWH-4O6h"
      },
      "source": [
        "## Creating Toolspecs\n",
        "\n",
        "Let's create a `ToolSpec` from the `GmailToolSpec` from the LlamaHub and convert it to a list of tools."
      ]
    },
    {
      "cell_type": "code",
      "execution_count": null,
      "metadata": {
        "id": "_7vsbucx4O6h",
        "outputId": "781da06d-6ae5-4741-ce65-65fcac93e0f4"
      },
      "outputs": [],
      "source": [
        "from llama_index.tools.google import GmailToolSpec\n",
        "\n",
        "tool_spec = GmailToolSpec()\n",
        "tool_spec_list = tool_spec.to_tool_list()\n",
        "tool_spec_list"
      ]
    },
    {
      "cell_type": "markdown",
      "metadata": {
        "id": "WGEGgq_z4O6i"
      },
      "source": [
        "To get a more detailed view of the tools, we can take a look at the `metadata` of each tool."
      ]
    },
    {
      "cell_type": "code",
      "execution_count": null,
      "metadata": {
        "id": "I7Ih0Dp94O6i",
        "outputId": "d147313b-3074-40c7-bb49-0895dc2d1dfb"
      },
      "outputs": [],
      "source": [
        "[(tool.metadata.name, tool.metadata.description) for tool in tool_spec_list]"
      ]
    }
  ],
  "metadata": {
    "colab": {
      "provenance": []
    },
    "kernelspec": {
      "display_name": "cs224n",
      "language": "python",
      "name": "python3"
    },
    "language_info": {
      "codemirror_mode": {
        "name": "ipython",
        "version": 3
      },
      "file_extension": ".py",
      "mimetype": "text/x-python",
      "name": "python",
      "nbconvert_exporter": "python",
      "pygments_lexer": "ipython3",
      "version": "3.12.8"
    }
  },
  "nbformat": 4,
  "nbformat_minor": 0
}
