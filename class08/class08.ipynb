{
  "cells": [
    {
      "cell_type": "code",
      "execution_count": null,
      "metadata": {
        "id": "sSUoHE5d2X2T"
      },
      "outputs": [],
      "source": [
        "#\n",
        "# Universidad EAFIT \n",
        "# 2025-2\n",
        "# SI7016 - NLP Aplicado - Lecture 08\n",
        "#"
      ]
    },
    {
      "cell_type": "markdown",
      "metadata": {},
      "source": [
        "# Ejemplo 1: Creación de un Agente LLM en Python"
      ]
    },
    {
      "cell_type": "code",
      "execution_count": null,
      "metadata": {},
      "outputs": [],
      "source": [
        "# instalar dependencias\n",
        "%pip install -U langchain langchain-openai langchain-community wikipedia openai faiss-cpu tiktoken    \n"
      ]
    },
    {
      "cell_type": "code",
      "execution_count": null,
      "metadata": {},
      "outputs": [],
      "source": [
        "# api key from env\n",
        "\n",
        "import os\n",
        "\n",
        "OPENAI_API_KEY = os.environ.get(\"OPENAI_API_KEY\")\n",
        "HF_TOKEN = os.environ.get(\"HF_TOKEN\")\n",
        "LANGCHAIN_API_KEY= os.environ[\"LANGCHAIN_API_KEY\"]\n",
        "SERPAPI_API_KEY = os.environ[\"SERPAPI_API_KEY\"]\n",
        "\n",
        "from openai import OpenAI\n",
        "client = OpenAI(api_key=OPENAI_API_KEY)"
      ]
    },
    {
      "cell_type": "code",
      "execution_count": null,
      "metadata": {},
      "outputs": [],
      "source": [
        "import os\n",
        "from langchain_openai import ChatOpenAI\n",
        "from langchain.hub import pull\n",
        "from langchain.agents import create_react_agent, AgentExecutor\n",
        "from langchain_core.tools import tool\n",
        "from langchain_community.utilities import WikipediaAPIWrapper\n",
        "from langchain_core.runnables.history import RunnableWithMessageHistory\n",
        "from langchain.memory import ChatMessageHistory\n",
        "\n",
        "llm = ChatOpenAI(model=\"gpt-4\", temperature=0.5)\n",
        "\n",
        "# --- Herramienta: Wikipedia (en español) ---\n",
        "wiki = WikipediaAPIWrapper(lang=\"es\", top_k_results=3, doc_content_chars_max=4000)\n",
        "\n",
        "@tool(\"wikipedia\")\n",
        "def search_wikipedia(query: str) -> str:\n",
        "    \"\"\"Busca información en Wikipedia (ES). Devuelve un resumen breve de los resultados.\"\"\"\n",
        "    return wiki.run(query)\n",
        "\n",
        "tools = [search_wikipedia]\n",
        "\n",
        "# --- Prompt ReAct (usamos un prompt público del hub) ---\n",
        "# \"react-chat\" está adaptado a chat + herramientas; si prefieres sin chat, usa \"react\".\n",
        "prompt = pull(\"hwchase17/react-chat\")\n",
        "\n",
        "# --- Crear agente ReAct + ejecutor ---\n",
        "agent = create_react_agent(llm=llm, tools=tools, prompt=prompt)\n",
        "executor = AgentExecutor(agent=agent, tools=tools, verbose=True)\n",
        "\n",
        "# --- Memoria de conversación (RunnableWithMessageHistory) ---\n",
        "# En vez de ConversationBufferMemory, el patrón recomendado es envolver el runnable\n",
        "# con un store de historiales por sesión.\n",
        "_store = {}\n",
        "\n",
        "def get_session_history(session_id: str) -> ChatMessageHistory:\n",
        "    if session_id not in _store:\n",
        "        _store[session_id] = ChatMessageHistory()\n",
        "    return _store[session_id]\n",
        "\n",
        "# El AgentExecutor espera la clave de entrada \"input\" y puede devolver \"output\".\n",
        "chain_with_history = RunnableWithMessageHistory(\n",
        "    executor,\n",
        "    get_session_history,\n",
        "    input_messages_key=\"input\",\n",
        "    history_messages_key=\"chat_history\",\n",
        "    output_messages_key=\"output\",\n",
        ")\n",
        "\n",
        "# --- Ejemplo de interacción ---\n",
        "session_id = \"demo-profesor\"  # cámbialo por el id de usuario/sesión que quieras persistir\n",
        "\n",
        "resp1 = chain_with_history.invoke(\n",
        "    {\"input\": \"¿Quién fue Alan Turing? Por favor, resume en 3 líneas y cita la fuente si usas Wikipedia.\"},\n",
        "    config={\"configurable\": {\"session_id\": session_id}},\n",
        ")\n",
        "print(resp1[\"output\"])\n",
        "\n",
        "# La memoria guarda el contexto para la siguiente pregunta:\n",
        "resp2 = chain_with_history.invoke(\n",
        "    {\"input\": \"Amplía con 2 aportes clave adicionales y una fecha importante.\"},\n",
        "    config={\"configurable\": {\"session_id\": session_id}},\n",
        ")\n",
        "print(resp2[\"output\"])\n"
      ]
    },
    {
      "cell_type": "markdown",
      "metadata": {},
      "source": [
        "# Ejemplo 2: Agente con Razonamiento y Planificación"
      ]
    },
    {
      "cell_type": "code",
      "execution_count": null,
      "metadata": {},
      "outputs": [],
      "source": [
        "%pip install google-search-results\n",
        "\n",
        "# Este agente puede recibir objetivos y descomponerlos en tareas usando un marco de planificación.\n",
        "\n",
        "# se requiere la API KEY de SerpAPI - https://serpapi.\n",
        "\n",
        "# realice el registro en línea, tiene 100 busquedas gratuitas al men, uso no comercial\n",
        "\n",
        "# crera la variable con el valor SERPAPI_API_KEY\n",
        "\n",
        "# en el bash shell:\n",
        "\n",
        "# bash$ set SERPAPI_API_KEY=123...232\n",
        "# bash$ export SERPAPI_API_KEY\n",
        "# bash$ echo $SERPAPI_API_KEY\n",
        "# 123...232\n",
        "\n",
        "#import os\n",
        "#os.environ[\"SERPAPI_API_KEY\"] = \"TU_CLAVE_API\"\n"
      ]
    },
    {
      "cell_type": "code",
      "execution_count": null,
      "metadata": {},
      "outputs": [],
      "source": [
        "from langchain_openai import ChatOpenAI\n",
        "from langchain.agents import initialize_agent, AgentType, load_tools\n",
        "from langchain_core.messages import SystemMessage  # en vez de langchain.schema\n",
        "\n",
        "# LLM\n",
        "llm = ChatOpenAI(model=os.getenv(\"MODEL_NAME\", \"gpt-4o-mini\"), temperature=0.2)\n",
        "\n",
        "# Herramientas\n",
        "tools = load_tools([\"serpapi\"], serpapi_api_key=os.environ[\"SERPAPI_API_KEY\"])\n",
        "\n",
        "# (Opcional) mensaje de sistema — NO es usado por ZERO_SHOT_REACT_DESCRIPTION.\n",
        "# Si quieres aplicar un prefijo personalizado, mejor usa agent_kwargs={\"prefix\": \"...\"}.\n",
        "system_message = SystemMessage(\n",
        "    content=\"Eres un agente de IA que descompone problemas complejos en pasos más pequeños y ejecuta acciones.\"\n",
        ")\n",
        "\n",
        "# Agente ReAct (zero-shot)\n",
        "agent_executor = initialize_agent(\n",
        "    tools=tools,\n",
        "    llm=llm,\n",
        "    agent=AgentType.ZERO_SHOT_REACT_DESCRIPTION,\n",
        "    verbose=True,\n",
        "    # agent_kwargs={\"prefix\": system_message.content},  # <- usa esto si quieres inyectar tu “system”\n",
        ")\n",
        "\n",
        "# Ejecutar\n",
        "result = agent_executor.run(\"Encuentra las últimas noticias sobre inteligencia artificial.\")\n",
        "print(result)\n"
      ]
    },
    {
      "cell_type": "code",
      "execution_count": null,
      "metadata": {},
      "outputs": [],
      "source": [
        "%pip install openai-agents"
      ]
    },
    {
      "cell_type": "code",
      "execution_count": null,
      "metadata": {},
      "outputs": [],
      "source": [
        "from agents import Agent, Runner\n",
        "\n",
        "agent = Agent(name=\"Assistant\", instructions=\"You are a helpful assistant\")\n",
        "\n",
        "# Intended for Jupyter notebooks where there's an existing event loop\n",
        "result = await Runner.run(agent, \"Write a haiku about recursion in programming.\")  # type: ignore[top-level-await]  # noqa: F704\n",
        "print(result.final_output)\n",
        "\n",
        "# Code within code loops,\n",
        "# Infinite mirrors reflect—\n",
        "# Logic folds on self."
      ]
    },
    {
      "cell_type": "code",
      "execution_count": null,
      "metadata": {},
      "outputs": [],
      "source": [
        "# funciona como un programa aparte: ejemplo.py\n",
        "from agents import Agent, Runner\n",
        "\n",
        "agent = Agent(name=\"Assistant\", instructions=\"You are a helpful assistant\")\n",
        "\n",
        "# Intended for Jupyter notebooks where there's an existing event loop\n",
        "result = await Runner.run(agent, \"Write a haiku about recursion in programming.\")  # type: ignore[top-level-await]  # noqa: F704\n",
        "print(result.final_output)\n",
        "\n",
        "# Code within code loops,\n",
        "# Infinite mirrors reflect—\n",
        "# Logic folds on self."
      ]
    },
    {
      "cell_type": "code",
      "execution_count": null,
      "metadata": {},
      "outputs": [],
      "source": [
        "import nest_asyncio\n",
        "import asyncio\n",
        "from agents import Agent, Runner\n",
        "\n",
        "print(dir(Runner))  # Verifica qué métodos están disponibles en Runner\n"
      ]
    },
    {
      "cell_type": "code",
      "execution_count": null,
      "metadata": {},
      "outputs": [],
      "source": [
        "# ejecución asincrónica dentro de notebook:\n",
        "\n",
        "import nest_asyncio\n",
        "#import asyncio\n",
        "from agents import Agent, Runner\n",
        "\n",
        "nest_asyncio.apply()  # Permite usar asyncio en Jupyter sin conflictos\n",
        "\n",
        "agent = Agent(name=\"Assistant\", instructions=\"You are a helpful assistant\")\n",
        "\n",
        "async def main():\n",
        "    result = await Runner.run(agent, \"Write a haiku about recursion in programming.\")\n",
        "    print(result.final_output)\n",
        "\n",
        "await main()  # Ejecutar directamente en Jupyter\n"
      ]
    },
    {
      "cell_type": "code",
      "execution_count": null,
      "metadata": {},
      "outputs": [],
      "source": [
        "import nest_asyncio\n",
        "nest_asyncio.apply()\n"
      ]
    },
    {
      "cell_type": "code",
      "execution_count": null,
      "metadata": {},
      "outputs": [],
      "source": [
        "import asyncio\n",
        "from agents import Agent, Runner\n",
        "\n",
        "agent = Agent(name=\"Assistant\", instructions=\"You are a helpful assistant\")\n",
        "\n",
        "async def main():\n",
        "    result = await Runner.run(agent, \"Write a haiku about recursion in programming.\")\n",
        "    print(result.final_output)\n",
        "\n",
        "asyncio.run(main())\n"
      ]
    },
    {
      "cell_type": "markdown",
      "metadata": {},
      "source": [
        "# Ejemplo 3 - instalación basica de llamaindex"
      ]
    },
    {
      "cell_type": "code",
      "execution_count": null,
      "metadata": {},
      "outputs": [],
      "source": [
        "%pip install llama-index-llms-huggingface-api llama-index-embeddings-huggingface\n"
      ]
    },
    {
      "cell_type": "code",
      "execution_count": null,
      "metadata": {},
      "outputs": [],
      "source": [
        "# Opción 1: Usar el modelo como chat (recomendado)\n",
        "\n",
        "import os\n",
        "from llama_index.llms.huggingface_api import HuggingFaceInferenceAPI\n",
        "from llama_index.core.llms import ChatMessage, MessageRole\n",
        "\n",
        "HF_TOKEN = os.environ[\"HF_TOKEN\"]  # asegúrate de exportarlo\n",
        "\n",
        "llm = HuggingFaceInferenceAPI(\n",
        "    model_name=\"Qwen/Qwen2.5-Coder-32B-Instruct\",\n",
        "    temperature=0.7,\n",
        "    max_tokens=100,   # alias a max_new_tokens en la API\n",
        "    token=HF_TOKEN,\n",
        ")\n",
        "\n",
        "# Usa .chat con una lista de mensajes\n",
        "msgs = [\n",
        "    ChatMessage(role=MessageRole.SYSTEM, content=\"You are a helpful coding assistant.\"),\n",
        "    ChatMessage(role=MessageRole.USER, content=\"Hello, how are you?\")\n",
        "]\n",
        "resp = llm.chat(msgs)\n",
        "\n",
        "print(resp.message.content)\n"
      ]
    }
  ],
  "metadata": {
    "colab": {
      "name": "lab1-nltk.ipynb",
      "provenance": []
    },
    "kernelspec": {
      "display_name": "cs224n",
      "language": "python",
      "name": "python3"
    },
    "language_info": {
      "codemirror_mode": {
        "name": "ipython",
        "version": 3
      },
      "file_extension": ".py",
      "mimetype": "text/x-python",
      "name": "python",
      "nbconvert_exporter": "python",
      "pygments_lexer": "ipython3",
      "version": "3.12.8"
    }
  },
  "nbformat": 4,
  "nbformat_minor": 2
}
