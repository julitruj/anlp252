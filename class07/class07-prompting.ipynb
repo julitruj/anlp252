{
  "cells": [
    {
      "cell_type": "markdown",
      "metadata": {},
      "source": [
        "#\n",
        "# Universidad EAFIT \n",
        "# 2025-2\n",
        "# SI7016 - NLP - Lecture 07\n",
        "#"
      ]
    },
    {
      "cell_type": "code",
      "execution_count": null,
      "metadata": {},
      "outputs": [],
      "source": [
        "from huggingface_hub import login\n",
        "# tu token\n",
        "login(\"hf_xxxxxxxxxxxxx\")"
      ]
    },
    {
      "cell_type": "code",
      "execution_count": null,
      "metadata": {
        "colab": {
          "base_uri": "https://localhost:8080/"
        },
        "id": "LWBFHbzS20OQ",
        "outputId": "6688528e-4d45-4279-9066-12dc0ed9f90f"
      },
      "outputs": [],
      "source": [
        "from langchain.prompts import PromptTemplate\n",
        "\n",
        "template = \"\"\"\n",
        "[Rol]: {role}\n",
        "[Tarea]: {task}\n",
        "[Formato]: {format}\n",
        "\n",
        "Pregunta del estudiante: {question}\n",
        "\"\"\"\n",
        "\n",
        "prompt = PromptTemplate(\n",
        "    input_variables=[\"role\", \"task\", \"format\", \"question\"],\n",
        "    template=template,\n",
        ")\n",
        "\n",
        "print(prompt.format(\n",
        "    role=\"Profesor de NLP\",\n",
        "    task=\"Explica conceptos de modelos de lenguaje a estudiantes de maestría\",\n",
        "    format=\"Usa ejemplos en Python y diagramas cuando sea posible\",\n",
        "    question=\"¿Qué es un modelo de lenguaje n-grama?\"\n",
        "))\n",
        "\n"
      ]
    }
  ],
  "metadata": {
    "colab": {
      "name": "lab1-nltk.ipynb",
      "provenance": []
    },
    "kernelspec": {
      "display_name": "cs224n",
      "language": "python",
      "name": "python3"
    },
    "language_info": {
      "codemirror_mode": {
        "name": "ipython",
        "version": 3
      },
      "file_extension": ".py",
      "mimetype": "text/x-python",
      "name": "python",
      "nbconvert_exporter": "python",
      "pygments_lexer": "ipython3",
      "version": "3.12.8"
    }
  },
  "nbformat": 4,
  "nbformat_minor": 2
}
