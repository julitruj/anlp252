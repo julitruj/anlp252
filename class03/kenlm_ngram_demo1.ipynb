{
 "cells": [
  {
   "cell_type": "markdown",
   "metadata": {
    "id": "OYI53X4PV6xb"
   },
   "source": [
    "# Modelo de Lenguaje n-gram con KenLM"
   ]
  },
  {
   "cell_type": "markdown",
   "metadata": {},
   "source": [
    "# SI7003 NLP - SI7016 Applied NLP\n",
    "# Language Model n-gram\n",
    "# KenLM\n",
    "# this notebook can run on google colab"
   ]
  },
  {
   "cell_type": "code",
   "execution_count": null,
   "metadata": {},
   "outputs": [],
   "source": [
    "#configuración en google colab accediendo al Drive (opcional)\n",
    "from google.colab import drive\n",
    "drive.mount('/content/gdrive')"
   ]
  },
  {
   "cell_type": "code",
   "execution_count": null,
   "metadata": {
    "id": "jsaEdfF2V6xi"
   },
   "outputs": [],
   "source": [
    "# Instalar KenLM en la máquina local, tiene que ser un ubuntu o leer las instrucciones especificas para Mac o Windows\n",
    "# en caso de no tener nativamente linux, puede instalar docker y correr ubuntu.\n",
    "# se adjuntan los Dockerfile y docker-compose para esto\n",
    "#\n",
    "# este demo tambien corre en google colab\n",
    "#\n",
    "!apt-get install -y build-essential cmake libboost-all-dev zlib1g-dev\n",
    "!git clone https://github.com/kpu/kenlm.git\n",
    "!cd kenlm && mkdir build && cd build && cmake .. && make -j4"
   ]
  },
  {
   "cell_type": "code",
   "execution_count": null,
   "metadata": {
    "id": "Z1iO9BXrV6xm"
   },
   "outputs": [],
   "source": [
    "# datos\n",
    "corpusdummy = \"\"\"\n",
    "I am John\n",
    "John I am\n",
    "I do not like eggs and ham\n",
    "They do like green eggs\n",
    "Would you eat them in a box?\n",
    "Would you eat them with a fox?\n",
    "I will not eat them in a house\n",
    "I will not eat them with a mouse\n",
    "Edwin I am\n",
    "I do not like green eggs and ham\n",
    "\"\"\"\n",
    "\n",
    "with open(\"corpusdummy.txt\", \"w\") as f:\n",
    "    f.write(corpusdummy)"
   ]
  },
  {
   "cell_type": "code",
   "execution_count": null,
   "metadata": {
    "id": "7Z61bsAcd-1X"
   },
   "outputs": [],
   "source": [
    "# Entrenar modelo n-gram (n=2))\n",
    "!kenlm/build/bin/lmplz -o 5 < corpusdummy.txt > modelkenlm.arpa"
   ]
  },
  {
   "cell_type": "code",
   "execution_count": null,
   "metadata": {
    "id": "JKajySzyV6xp"
   },
   "outputs": [],
   "source": [
    "# Convertir el modelo ARPA a binario (opcional pero eficiente)\n",
    "!kenlm/build/bin/build_binary modelkenlm.arpa modelkenlm.binary"
   ]
  },
  {
   "cell_type": "code",
   "execution_count": null,
   "metadata": {
    "id": "Y6bs6j1kXfyw"
   },
   "outputs": [],
   "source": [
    "# Instalar paquete python kenlm\n",
    "!pip3 install kenlm"
   ]
  },
  {
   "cell_type": "code",
   "execution_count": null,
   "metadata": {
    "id": "2T9H2uH3V6xq"
   },
   "outputs": [],
   "source": [
    "# Consultar el modelo desde Python\n",
    "import kenlm\n",
    "\n",
    "model = kenlm.Model('modelkenlm.binary')\n",
    "\n",
    "sentence = \"I am John\"\n",
    "print(\"Log probability:\", model.score(sentence))\n",
    "print(\"Perplexity:\", model.perplexity(sentence))"
   ]
  },
  {
   "cell_type": "code",
   "execution_count": null,
   "metadata": {
    "id": "GJIHzdMxV6xr"
   },
   "outputs": [],
   "source": [
    "# Comparar múltiples frases\n",
    "sentences = [\n",
    "    \"I am Jhon\",\n",
    "    \"John am I\",\n",
    "    \"I like eggs\"\n",
    "]\n",
    "\n",
    "for s in sentences:\n",
    "    print(f\"{s}\\n  LogProb: {model.score(s):.2f}  Perplexity: {model.perplexity(s):.2f}\\n\")"
   ]
  }
 ],
 "metadata": {
  "colab": {
   "provenance": []
  },
  "kernelspec": {
   "display_name": "Python 3 (ipykernel)",
   "language": "python",
   "name": "python3"
  },
  "language_info": {
   "codemirror_mode": {
    "name": "ipython",
    "version": 3
   },
   "file_extension": ".py",
   "mimetype": "text/x-python",
   "name": "python",
   "nbconvert_exporter": "python",
   "pygments_lexer": "ipython3",
   "version": "3.10.12"
  }
 },
 "nbformat": 4,
 "nbformat_minor": 0
}
