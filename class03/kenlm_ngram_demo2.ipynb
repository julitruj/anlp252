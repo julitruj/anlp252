{
 "cells": [
  {
   "cell_type": "markdown",
   "metadata": {
    "id": "OYI53X4PV6xb"
   },
   "source": [
    "# SI7003 NLP - SI7016 Applied NLP\n",
    "# Language Model n-gram\n",
    "# KenLM\n",
    "# this notebook can run on google colab\n",
    "# example with big datasets\n",
    "# Tatoeba Corpus - short sentences in several languages (eng, spa, fre, ita, etc)\n",
    "## https://downloads.tatoeba.org/exports/sentences.tar.bz2\n",
    "## https://downloads.tatoeba.org/exports/links.tar.bz2"
   ]
  },
  {
   "cell_type": "markdown",
   "metadata": {},
   "source": [
    "## challences:\n",
    "## 1. best sentence structured among several combinatios: improve redactions, writing, language(english) learning\n",
    "## 2. grammar correction (I has an dreem -> I have a dream)\n",
    "## 3. classification (n models (classes), one new document, what class?)\n",
    "## 4. language detection\n",
    "## 5. word prediction or autocomplete"
   ]
  },
  {
   "cell_type": "code",
   "execution_count": null,
   "metadata": {
    "id": "jsaEdfF2V6xi"
   },
   "outputs": [],
   "source": [
    "# Instalar KenLM en la máquina local, tiene que ser un ubuntu o leer las instrucciones especificas para Mac o Windows\n",
    "# en caso de no tener nativamente linux, puede instalar docker y correr ubuntu.\n",
    "# se adjuntan los Dockerfile y docker-compose para esto\n",
    "#\n",
    "# este demo tambien corre en google colab\n",
    "#\n",
    "!apt-get install -y build-essential cmake libboost-all-dev zlib1g-dev\n",
    "!git clone https://github.com/kpu/kenlm.git\n",
    "!cd kenlm && mkdir build && cd build && cmake .. && make -j4"
   ]
  },
  {
   "cell_type": "code",
   "execution_count": null,
   "metadata": {
    "id": "gV5Dzhy7YMXA"
   },
   "outputs": [],
   "source": [
    "!wget https://downloads.tatoeba.org/exports/links.tar.bz2\n",
    "!tar -xjf links.tar.bz2"
   ]
  },
  {
   "cell_type": "code",
   "execution_count": null,
   "metadata": {
    "id": "EY5Ne8IcYrl8"
   },
   "outputs": [],
   "source": [
    "!wget https://downloads.tatoeba.org/exports/sentences.tar.bz2\n",
    "!tar -xjf sentences.tar.bz2\n"
   ]
  },
  {
   "cell_type": "code",
   "execution_count": null,
   "metadata": {
    "id": "wmp2XGIqYJvD"
   },
   "outputs": [],
   "source": [
    "!grep -P \"\\tspa\\t\" sentences.csv > tatoeba_spa.tsv\n",
    "!cut -f3 tatoeba_spa.tsv > corpus_spa.txt\n",
    "!grep -P \"\\teng\\t\" sentences.csv > tatoeba_eng.tsv\n",
    "!cut -f3 tatoeba_eng.tsv > corpus_eng.txt"
   ]
  },
  {
   "cell_type": "code",
   "execution_count": null,
   "metadata": {
    "id": "LBrWBCSGYh-a"
   },
   "outputs": [],
   "source": [
    "!cat corpus_spa.txt | \\\n",
    "  tr '[:upper:]' '[:lower:]' | \\\n",
    "  sed 's/[^a-záéíóúüñç¿¡ ]//g' > corpus_clean_spa.txt\n",
    "\n",
    "!cat corpus_eng.txt | \\\n",
    "  tr '[:upper:]' '[:lower:]' | \\\n",
    "  sed 's/[^a-záéíóúüñç¿¡ ]//g' > corpus_clean_eng.txt\n"
   ]
  },
  {
   "cell_type": "code",
   "execution_count": null,
   "metadata": {
    "id": "ksNPZBviY_Gl"
   },
   "outputs": [],
   "source": [
    "!grep -P \"\\teng\\t\" sentences.csv | cut -f3 | \\\n",
    "tr '[:upper:]' '[:lower:]' | tr -d '[:punct:]' | \\\n",
    "tr ' ' '\\n' | sort | uniq -c | sort -nr > vocab_eng.txt"
   ]
  },
  {
   "cell_type": "code",
   "execution_count": null,
   "metadata": {
    "id": "pA2slFjzZVDq"
   },
   "outputs": [],
   "source": [
    "!grep -P \"\\spa\\t\" sentences.csv | cut -f3 | \\\n",
    "tr '[:upper:]' '[:lower:]' | tr -d '[:punct:]' | \\\n",
    "tr ' ' '\\n' | sort | uniq -c | sort -nr > vocab_spa.txt"
   ]
  },
  {
   "cell_type": "code",
   "execution_count": null,
   "metadata": {
    "id": "7Z61bsAcd-1X"
   },
   "outputs": [],
   "source": [
    "# Entrenar modelo n-gram (n=3))\n",
    "!kenlm/build/bin/lmplz -o 5 < corpus_clean_spa.txt > tatoeba_spa.arpa"
   ]
  },
  {
   "cell_type": "code",
   "execution_count": null,
   "metadata": {
    "id": "UaPNbb0sV6xo"
   },
   "outputs": [],
   "source": [
    "# Entrenar modelo n-gram (n=5))\n",
    "!kenlm/build/bin/lmplz -o 5 < corpus_clean_spa.txt > tatoeba_spa.arpa"
   ]
  },
  {
   "cell_type": "code",
   "execution_count": null,
   "metadata": {
    "id": "-rGVdpbgcZ5K"
   },
   "outputs": [],
   "source": [
    "!kenlm/build/bin/lmplz -o 5 < corpus_clean_eng.txt > tatoeba_eng.arpa"
   ]
  },
  {
   "cell_type": "code",
   "execution_count": null,
   "metadata": {
    "id": "JKajySzyV6xp"
   },
   "outputs": [],
   "source": [
    "# Convertir el modelo ARPA a binario (opcional pero eficiente)\n",
    "!kenlm/build/bin/build_binary tatoeba_spa.arpa tatoeba_spa.binary"
   ]
  },
  {
   "cell_type": "code",
   "execution_count": null,
   "metadata": {
    "id": "5Wfwb8atcinC"
   },
   "outputs": [],
   "source": [
    "!kenlm/build/bin/build_binary tatoeba_eng.arpa tatoeba_eng.binary"
   ]
  },
  {
   "cell_type": "code",
   "execution_count": null,
   "metadata": {
    "id": "Y6bs6j1kXfyw"
   },
   "outputs": [],
   "source": [
    "# Instalar paquete python kenlm\n",
    "!pip3 install kenlm"
   ]
  },
  {
   "cell_type": "code",
   "execution_count": null,
   "metadata": {
    "id": "2T9H2uH3V6xq"
   },
   "outputs": [],
   "source": [
    "import kenlm\n",
    "\n",
    "model_eng = kenlm.Model('../../tatoeba_eng.bin')\n",
    "model_spa = kenlm.Model('../../tatoeba_spa.bin')\n",
    "\n",
    "sentence = \"I have a dream\"\n",
    "print(\"Log probability:\", model_eng.score(sentence))\n",
    "print(\"Perplexity:\", model_eng.perplexity(sentence))\n",
    "\n",
    "print(\"Log probability:\", model_spa.score(sentence))\n",
    "print(\"Perplexity:\", model_spa.perplexity(sentence))"
   ]
  },
  {
   "cell_type": "code",
   "execution_count": null,
   "metadata": {
    "id": "GJIHzdMxV6xr"
   },
   "outputs": [],
   "source": [
    "# Comparar múltiples frases\n",
    "# Comparar múltiples frases\n",
    "sentences = [\n",
    "    \"she be a dream\",\n",
    "    \"she are an dream\",\n",
    "    \"she is a dream\"\n",
    "]\n",
    "\n",
    "for s in sentences:\n",
    "    print(f\"{s}\\n  LogProb: {model_eng.score(s):.2f}  Perplexity: {model_eng.perplexity(s):.2f}\\n\")"
   ]
  },
  {
   "cell_type": "code",
   "execution_count": null,
   "metadata": {},
   "outputs": [],
   "source": [
    "# Consultar el modelo desde Python - spanish model, compare the results with english model\n",
    "import kenlm\n",
    "\n",
    "model = kenlm.Model('tatoeba_spa.binary')\n",
    "\n",
    "sentence = \"I am John\"\n",
    "print(\"Log probability:\", model.score(sentence))\n",
    "print(\"Perplexity:\", model.perplexity(sentence))"
   ]
  }
 ],
 "metadata": {
  "colab": {
   "provenance": []
  },
  "kernelspec": {
   "display_name": "Python 3 (ipykernel)",
   "language": "python",
   "name": "python3"
  },
  "language_info": {
   "codemirror_mode": {
    "name": "ipython",
    "version": 3
   },
   "file_extension": ".py",
   "mimetype": "text/x-python",
   "name": "python",
   "nbconvert_exporter": "python",
   "pygments_lexer": "ipython3",
   "version": "3.10.12"
  }
 },
 "nbformat": 4,
 "nbformat_minor": 0
}
