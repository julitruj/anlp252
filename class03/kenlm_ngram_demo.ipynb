{
 "cells": [
  {
   "cell_type": "markdown",
   "metadata": {},
   "source": [
    "# Modelo de Lenguaje n-gram con KenLM"
   ]
  },
  {
   "cell_type": "code",
   "execution_count": null,
   "metadata": {},
   "outputs": [],
   "source": [
    "# Instalar KenLM en la máquina local, tiene que ser un ubuntu o leer las instrucciones especificas para Mac o Windows\n",
    "# en caso de no tener nativamente linux, puede instalar docker y correr ubuntu.\n",
    "# se adjuntan los Dockerfile y docker-compose para esto\n",
    "!apt-get install -y build-essential cmake libboost-all-dev zlib1g-dev\n",
    "!git clone https://github.com/kpu/kenlm.git\n",
    "!cd kenlm && mkdir build && cd build && cmake .. && make -j4"
   ]
  },
  {
   "cell_type": "code",
   "execution_count": null,
   "metadata": {},
   "outputs": [],
   "source": [
    "# datos\n",
    "corpus = \"\"\"\n",
    "I am John\n",
    "John I am\n",
    "I do not like eggs and ham\n",
    "They do like green eggs\n",
    "Would you eat them in a box?\n",
    "Would you eat them with a fox?\n",
    "I will not eat them in a house\n",
    "I will not eat them with a mouse\n",
    "Edwin I am\n",
    "I do not like green eggs and ham\n",
    "\"\"\"\n",
    "\n",
    "with open(\"corpus.txt\", \"w\") as f:\n",
    "    f.write(corpus)"
   ]
  },
  {
   "cell_type": "code",
   "execution_count": null,
   "metadata": {},
   "outputs": [],
   "source": [
    "# Entrenar modelo n-gram (bigram)\n",
    "!kenlm/build/bin/lmplz -o 2 < corpus.txt > bigram.arpa"
   ]
  },
  {
   "cell_type": "code",
   "execution_count": null,
   "metadata": {},
   "outputs": [],
   "source": [
    "# Convertir el modelo ARPA a binario (opcional pero eficiente)\n",
    "!kenlm/build/bin/build_binary bigram.arpa bigram.binary"
   ]
  },
  {
   "cell_type": "code",
   "execution_count": null,
   "metadata": {},
   "outputs": [],
   "source": [
    "# Consultar el modelo desde Python\n",
    "#!pip3 install kenlm \n",
    "import kenlm\n",
    "\n",
    "model = kenlm.Model('bigram.binary')\n",
    "\n",
    "sentence = \"I am John\"\n",
    "print(\"Log probability:\", model.score(sentence))\n",
    "print(\"Perplexity:\", model.perplexity(sentence))"
   ]
  },
  {
   "cell_type": "code",
   "execution_count": null,
   "metadata": {},
   "outputs": [],
   "source": [
    "# Comparar múltiples frases\n",
    "sentences = [\n",
    "    \"I am Jhon\",\n",
    "    \"John am I\",\n",
    "    \"I like eggs\"\n",
    "]\n",
    "\n",
    "for s in sentences:\n",
    "    print(f\"{s}\\n  LogProb: {model.score(s):.2f}  Perplexity: {model.perplexity(s):.2f}\\n\")"
   ]
  }
 ],
 "metadata": {
  "colab": {
   "name": "kenlm_ngram_demo.ipynb",
   "provenance": []
  },
  "kernelspec": {
   "display_name": "Python 3 (ipykernel)",
   "language": "python",
   "name": "python3"
  },
  "language_info": {
   "codemirror_mode": {
    "name": "ipython",
    "version": 3
   },
   "file_extension": ".py",
   "mimetype": "text/x-python",
   "name": "python",
   "nbconvert_exporter": "python",
   "pygments_lexer": "ipython3",
   "version": "3.10.12"
  }
 },
 "nbformat": 4,
 "nbformat_minor": 4
}
