{
  "cells": [
    {
      "cell_type": "markdown",
      "id": "8bee64e3",
      "metadata": {
        "id": "8bee64e3"
      },
      "source": [
        "\n",
        "# QLoRA Fine-tuning de **Qwen2.5-7B-Instruct** en Google Colab T4 (SAMSum, Resumen de Diálogos)\n",
        "\n",
        "se realiza un **fine-tuning supervisado (SFT)** usando **QLoRA (4-bit)** sobre el modelo preentrenado **Qwen2.5-7B-Instruct** para la tarea de **resumen de diálogo** con el dataset **[SAMSum](https://huggingface.co/datasets/samsum)**. \n",
        "\n",
        "Ejecución: **Google Colab con GPU T4 (16 GB)**.\n",
        "\n",
        "**pasos:**\n",
        "- Instalación de librerías (`transformers`, `datasets`, `peft`, `bitsandbytes`, `trl`, `evaluate`, `rouge_score`).\n",
        "- Carga del **modelo Qwen2.5-7B-Instruct** en 4-bit.\n",
        "- **Plantillas de prompt** usando `tokenizer.apply_chat_template`.\n",
        "- **Entrenamiento con SFTTrainer** (TRL) + **LoRA** (PEFT).\n",
        "- **Inferencia** y **evaluación rápida** con ROUGE en una muestra pequeña.\n",
        "- Guardado de los **adaptadores LoRA**.\n",
        "\n",
        "> Opción: **QA generativo** (SQuAD v1.1) u otra tarea, ver la sección “Variantes” al final.\n"
      ]
    },
    {
      "cell_type": "markdown",
      "id": "531b3039",
      "metadata": {
        "id": "531b3039"
      },
      "source": [
        "## 1) Instalación y verificación de entorno"
      ]
    },
    {
      "cell_type": "code",
      "execution_count": null,
      "id": "4cbc41f5",
      "metadata": {
        "id": "4cbc41f5"
      },
      "outputs": [],
      "source": [
        "\n",
        "!pip -q install \"transformers>=4.43.0\" \"datasets>=2.19.0\" \"accelerate>=0.32.0\" \"bitsandbytes>=0.43.0\"                  \"peft>=0.11.0\" \"trl>=0.9.4\" \"evaluate>=0.4.2\" \"rouge-score>=0.1.2\"\n"
      ]
    },
    {
      "cell_type": "code",
      "execution_count": null,
      "id": "RauPlqtW028P",
      "metadata": {
        "colab": {
          "base_uri": "https://localhost:8080/"
        },
        "id": "RauPlqtW028P",
        "outputId": "a2882baa-b207-477f-e117-48121e012ca4"
      },
      "outputs": [],
      "source": [
        "!pip install -U bitsandbytes trl"
      ]
    },
    {
      "cell_type": "code",
      "execution_count": null,
      "id": "698eb797",
      "metadata": {},
      "outputs": [],
      "source": [
        "from huggingface_hub import login\n",
        "# tu token\n",
        "login(\"hf_xxxxxxxxxxxxx\")"
      ]
    },
    {
      "cell_type": "code",
      "execution_count": null,
      "id": "607a67b1",
      "metadata": {
        "colab": {
          "base_uri": "https://localhost:8080/"
        },
        "id": "607a67b1",
        "outputId": "b8d427f4-292c-4ad7-8352-c5d286eb9961"
      },
      "outputs": [],
      "source": [
        "import torch, os, platform\n",
        "print(\"PyTorch:\", torch.__version__)\n",
        "print(\"CUDA available:\", torch.cuda.is_available())\n",
        "if torch.cuda.is_available():\n",
        "    print(\"GPU:\", torch.cuda.get_device_name(0))\n",
        "else:\n",
        "    print(\"Ejecuta este cuaderno en Colab con GPU (T4 recomendada).\")\n"
      ]
    },
    {
      "cell_type": "markdown",
      "id": "2855055e",
      "metadata": {
        "id": "2855055e"
      },
      "source": [
        "## 2) Configuración del modelo y cuantización 4-bit (QLoRA)"
      ]
    },
    {
      "cell_type": "code",
      "execution_count": null,
      "id": "df3c5f1a",
      "metadata": {
        "colab": {
          "base_uri": "https://localhost:8080/",
          "height": 188,
          "referenced_widgets": [
            "1d2de5d6d5d54f7680747f17290daeba",
            "b02e316e5e3745229ae3d67a69be738f",
            "ae6fd9287c3d41c2a3cf8c013fd3ddd6",
            "546eec29e6b8479a9a0a5e50dab788da",
            "3aeb0406d8f14397ab364f77bbd1c240",
            "70161bc71941406392884d92fe5cb496",
            "d23d4b531713416e8923e3859fcc9470",
            "4ca2d1551f194dcb835ab7228e0294cb",
            "9caf58b910134d64905ba967fae81a2f",
            "4a2778d2aced4f14960000808ee714ca",
            "849867dc1c4841da8c865038a1506c50"
          ]
        },
        "id": "df3c5f1a",
        "outputId": "bbcffeab-cd2f-44d4-bcae-bda28958ae19"
      },
      "outputs": [],
      "source": [
        "\n",
        "from transformers import AutoTokenizer, AutoModelForCausalLM, BitsAndBytesConfig\n",
        "\n",
        "MODEL_ID = \"Qwen/Qwen2.5-7B-Instruct\"   # Alternativa: \"Qwen/Qwen2.5-7B\"\n",
        "USE_BF16 = True                         # Si tu GPU soporta bfloat16\n",
        "\n",
        "bnb_config = BitsAndBytesConfig(\n",
        "    load_in_4bit=True,\n",
        "    bnb_4bit_quant_type=\"nf4\",\n",
        "    bnb_4bit_use_double_quant=True,\n",
        "    bnb_4bit_compute_dtype=torch.bfloat16 if USE_BF16 else torch.float16,\n",
        ")\n",
        "\n",
        "tokenizer = AutoTokenizer.from_pretrained(MODEL_ID, use_fast=True, trust_remote_code=True)\n",
        "if tokenizer.pad_token is None:\n",
        "    tokenizer.pad_token = tokenizer.eos_token\n",
        "\n",
        "model = AutoModelForCausalLM.from_pretrained(\n",
        "    MODEL_ID,\n",
        "    quantization_config=bnb_config,\n",
        "    device_map=\"auto\",\n",
        "    trust_remote_code=True,\n",
        ")\n",
        "\n",
        "# Recomendado para entrenamiento estable con checkpointing\n",
        "model.config.use_cache = False\n",
        "model.gradient_checkpointing_enable()\n"
      ]
    },
    {
      "cell_type": "markdown",
      "id": "5587d34e",
      "metadata": {
        "id": "5587d34e"
      },
      "source": [
        "## 3) Cargar dataset: SAMSum (diálogos y resúmenes)"
      ]
    },
    {
      "cell_type": "code",
      "execution_count": null,
      "id": "b78c533a",
      "metadata": {
        "id": "b78c533a"
      },
      "outputs": [],
      "source": [
        "\n",
        "from datasets import load_dataset\n",
        "ds = load_dataset(\"knkarthick/samsum\")\n",
        "print(ds)\n",
        "\n",
        "# Para Colab T4, usar subconjuntos pequeños para una demo rápida\n",
        "train_samples = 3000   # ajusta según tu tiempo/VRAM\n",
        "eval_samples  = 300    # idem\n",
        "\n",
        "train_ds = ds[\"train\"].shuffle(seed=42).select(range(min(train_samples, len(ds[\"train\"]))))\n",
        "eval_ds  = ds[\"validation\"].shuffle(seed=42).select(range(min(eval_samples, len(ds[\"validation\"]))))\n",
        "print(train_ds, eval_ds)\n"
      ]
    },
    {
      "cell_type": "markdown",
      "id": "ba010362",
      "metadata": {
        "id": "ba010362"
      },
      "source": [
        "## 4) Plantilla de *prompt* con `apply_chat_template`"
      ]
    },
    {
      "cell_type": "code",
      "execution_count": null,
      "id": "a0f35a17",
      "metadata": {
        "id": "a0f35a17"
      },
      "outputs": [],
      "source": [
        "\n",
        "def format_chat(dialogue: str, summary: str = None, for_train: bool = True) -> str:\n",
        "    \"\"\"\n",
        "    Crea un prompt tipo chat para Qwen2.5.\n",
        "    - for_train=True: incluye la respuesta (summary) como mensaje del assistant.\n",
        "    - for_train=False: agrega el \"generation prompt\" para inferencia.\n",
        "    \"\"\"\n",
        "    \"\"\"\n",
        "    messages = [\n",
        "        {\"role\": \"system\", \"content\": \"Eres un asistente que resume diálogos en una sola oración, breve y fiel al contenido.\"},\n",
        "        {\"role\": \"user\", \"content\": f\"Resume el siguiente diálogo:\\n\\n{dialogue.strip()}\"},\n",
        "    ]\n",
        "    \"\"\"\n",
        "\n",
        "    messages = [\n",
        "        {\"role\": \"system\", \"content\": \"You are an assistant that summarizes dialogues into a single sentence, short and faithful to the content.\"},\n",
        "        {\"role\": \"user\", \"content\": f\"Summarize the following dialogue:\\n\\n{dialogue.strip()}\"},\n",
        "    ]\n",
        "\n",
        "    if for_train and summary is not None:\n",
        "        messages.append({\"role\": \"assistant\", \"content\": summary.strip()})\n",
        "        return tokenizer.apply_chat_template(messages, tokenize=False, add_generation_prompt=False)\n",
        "    else:\n",
        "        return tokenizer.apply_chat_template(messages, tokenize=False, add_generation_prompt=True)\n",
        "\n",
        "# Ejemplo:\n",
        "print(format_chat(train_ds[0][\"dialogue\"], train_ds[0][\"summary\"])[:500])\n"
      ]
    },
    {
      "cell_type": "markdown",
      "id": "ebb44bd0",
      "metadata": {
        "id": "ebb44bd0"
      },
      "source": [
        "## 5) Preprocesamiento: convertir a campo `text`"
      ]
    },
    {
      "cell_type": "code",
      "execution_count": null,
      "id": "160a4661",
      "metadata": {
        "id": "160a4661"
      },
      "outputs": [],
      "source": [
        "\n",
        "def to_sft_format(example, for_train=True):\n",
        "    text = format_chat(example[\"dialogue\"], example.get(\"summary\"), for_train=for_train)\n",
        "    return {\"text\": text}\n",
        "\n",
        "train_sft = train_ds.map(lambda ex: to_sft_format(ex, True), remove_columns=train_ds.column_names)\n",
        "eval_sft  = eval_ds.map(lambda ex: to_sft_format(ex, True), remove_columns=eval_ds.column_names)\n",
        "\n",
        "print(train_sft[0][\"text\"][:300])\n"
      ]
    },
    {
      "cell_type": "markdown",
      "id": "a9c625ec",
      "metadata": {
        "id": "a9c625ec"
      },
      "source": [
        "## 6) Entrenamiento con TRL `SFTTrainer` + PEFT (LoRA)"
      ]
    },
    {
      "cell_type": "code",
      "execution_count": null,
      "id": "8da01d45",
      "metadata": {
        "id": "8da01d45"
      },
      "outputs": [],
      "source": [
        "from peft import LoraConfig\n",
        "from trl import SFTTrainer, SFTConfig\n",
        "\n",
        "peft_config = LoraConfig(\n",
        "    r=16,\n",
        "    lora_alpha=32,\n",
        "    lora_dropout=0.05,\n",
        "    bias=\"none\",\n",
        "    task_type=\"CAUSAL_LM\",\n",
        "    target_modules=[\"q_proj\",\"k_proj\",\"v_proj\",\"o_proj\",\"gate_proj\",\"up_proj\",\"down_proj\"],\n",
        ")\n",
        "\n",
        "train_args = SFTConfig(\n",
        "    output_dir=\"qwen25-7b-samsum-lora\",\n",
        "    num_train_epochs=1,\n",
        "    per_device_train_batch_size=1,\n",
        "    gradient_accumulation_steps=16,\n",
        "    logging_steps=10,\n",
        "    save_strategy=\"epoch\",\n",
        "    eval_strategy=\"steps\",\n",
        "    eval_steps=100,\n",
        "    learning_rate=2e-4,\n",
        "    lr_scheduler_type=\"cosine\",\n",
        "    warmup_ratio=0.03,\n",
        "    bf16=True,\n",
        "    optim=\"paged_adamw_8bit\",\n",
        ")\n",
        "\n",
        "trainer = SFTTrainer(\n",
        "    model=model,\n",
        "    train_dataset=train_sft,\n",
        "    eval_dataset=eval_sft,\n",
        "    peft_config=peft_config,\n",
        "    args=train_args,\n",
        "    packing=False,\n",
        ")\n",
        "\n",
        "trainer.train()\n",
        "trainer.model.save_pretrained(\"qwen25-7b-samsum-lora\")\n",
        "tokenizer.save_pretrained(\"qwen25-7b-samsum-lora\")"
      ]
    },
    {
      "cell_type": "markdown",
      "id": "e8a61716",
      "metadata": {
        "id": "e8a61716"
      },
      "source": [
        "## 7) Inferencia en ejemplos de validación"
      ]
    },
    {
      "cell_type": "code",
      "execution_count": null,
      "id": "1c167fe3",
      "metadata": {
        "id": "1c167fe3"
      },
      "outputs": [],
      "source": [
        "\n",
        "import textwrap, torch\n",
        "\n",
        "def generate_summary(dialogue: str, max_new_tokens=128, temperature=0.7, top_p=0.9):\n",
        "    prompt = format_chat(dialogue, None, for_train=False)\n",
        "    inputs = tokenizer(prompt, return_tensors=\"pt\").to(model.device)\n",
        "    with torch.no_grad():\n",
        "        out = model.generate(\n",
        "            **inputs,\n",
        "            max_new_tokens=max_new_tokens,\n",
        "            do_sample=True,\n",
        "            temperature=temperature,\n",
        "            top_p=top_p,\n",
        "            pad_token_id=tokenizer.eos_token_id,\n",
        "        )\n",
        "    gen = tokenizer.decode(out[0], skip_special_tokens=True)\n",
        "    return gen.split(\"assistant\")[-1].strip()\n",
        "\n",
        "ex = eval_ds[0]\n",
        "pred = generate_summary(ex[\"dialogue\"])\n",
        "print(\"=== DIÁLOGO ===\")\n",
        "print(textwrap.shorten(ex[\"dialogue\"], width=1200))\n",
        "print(\"\\n=== RESUMEN GOLD ===\\n\", ex[\"summary\"])\n",
        "print(\"\\n=== RESUMEN GENERADO ===\\n\", pred)\n"
      ]
    },
    {
      "cell_type": "markdown",
      "id": "c383195d",
      "metadata": {
        "id": "c383195d"
      },
      "source": [
        "## 8) Evaluación rápida (ROUGE) en una muestra"
      ]
    },
    {
      "cell_type": "code",
      "execution_count": null,
      "id": "d491c65f",
      "metadata": {
        "id": "d491c65f"
      },
      "outputs": [],
      "source": [
        "\n",
        "import evaluate\n",
        "rouge = evaluate.load(\"rouge\")\n",
        "\n",
        "n_eval = 50\n",
        "subset = eval_ds.select(range(min(n_eval, len(eval_ds))))\n",
        "\n",
        "preds, refs = [], []\n",
        "for ex in subset:\n",
        "    preds.append(generate_summary(ex[\"dialogue\"], max_new_tokens=96))\n",
        "    refs.append(ex[\"summary\"])\n",
        "\n",
        "scores = rouge.compute(predictions=preds, references=refs, use_aggregator=True)\n",
        "print(scores)\n"
      ]
    },
    {
      "cell_type": "markdown",
      "id": "be95150d",
      "metadata": {
        "id": "be95150d"
      },
      "source": [
        "\n",
        "## 9) Opciones\n",
        "- **QA Generativo (SQuAD v1.1):**\n",
        "  - `load_dataset(\"squad\")` y define el prompt con contexto + pregunta + respuesta.\n",
        "- **Extracción estructurada (JSON):**\n",
        "  - Cambia el `system` a “Devuelve **solo** JSON válido …” y usa cadenas JSON en `assistant`.\n",
        "- **Instrucción general (Dolly-15k / OASST):**\n",
        "  - Sustituye SAMSum por un instruction dataset.\n",
        "- **Optimización T4:**\n",
        "  - Baja `max_seq_length`, sube `gradient_accumulation_steps`, o reduce `train_samples`.\n"
      ]
    }
  ],
  "metadata": {
    "accelerator": "GPU",
    "colab": {
      "gpuType": "T4",
      "provenance": []
    },
    "kernelspec": {
      "display_name": "Python 3",
      "name": "python3"
    },
    "language_info": {
      "name": "python"
    },
    "widgets": {
      "application/vnd.jupyter.widget-state+json": {
        "1d2de5d6d5d54f7680747f17290daeba": {
          "model_module": "@jupyter-widgets/controls",
          "model_module_version": "1.5.0",
          "model_name": "HBoxModel",
          "state": {
            "_dom_classes": [],
            "_model_module": "@jupyter-widgets/controls",
            "_model_module_version": "1.5.0",
            "_model_name": "HBoxModel",
            "_view_count": null,
            "_view_module": "@jupyter-widgets/controls",
            "_view_module_version": "1.5.0",
            "_view_name": "HBoxView",
            "box_style": "",
            "children": [
              "IPY_MODEL_b02e316e5e3745229ae3d67a69be738f",
              "IPY_MODEL_ae6fd9287c3d41c2a3cf8c013fd3ddd6",
              "IPY_MODEL_546eec29e6b8479a9a0a5e50dab788da"
            ],
            "layout": "IPY_MODEL_3aeb0406d8f14397ab364f77bbd1c240"
          }
        },
        "3aeb0406d8f14397ab364f77bbd1c240": {
          "model_module": "@jupyter-widgets/base",
          "model_module_version": "1.2.0",
          "model_name": "LayoutModel",
          "state": {
            "_model_module": "@jupyter-widgets/base",
            "_model_module_version": "1.2.0",
            "_model_name": "LayoutModel",
            "_view_count": null,
            "_view_module": "@jupyter-widgets/base",
            "_view_module_version": "1.2.0",
            "_view_name": "LayoutView",
            "align_content": null,
            "align_items": null,
            "align_self": null,
            "border": null,
            "bottom": null,
            "display": null,
            "flex": null,
            "flex_flow": null,
            "grid_area": null,
            "grid_auto_columns": null,
            "grid_auto_flow": null,
            "grid_auto_rows": null,
            "grid_column": null,
            "grid_gap": null,
            "grid_row": null,
            "grid_template_areas": null,
            "grid_template_columns": null,
            "grid_template_rows": null,
            "height": null,
            "justify_content": null,
            "justify_items": null,
            "left": null,
            "margin": null,
            "max_height": null,
            "max_width": null,
            "min_height": null,
            "min_width": null,
            "object_fit": null,
            "object_position": null,
            "order": null,
            "overflow": null,
            "overflow_x": null,
            "overflow_y": null,
            "padding": null,
            "right": null,
            "top": null,
            "visibility": null,
            "width": null
          }
        },
        "4a2778d2aced4f14960000808ee714ca": {
          "model_module": "@jupyter-widgets/base",
          "model_module_version": "1.2.0",
          "model_name": "LayoutModel",
          "state": {
            "_model_module": "@jupyter-widgets/base",
            "_model_module_version": "1.2.0",
            "_model_name": "LayoutModel",
            "_view_count": null,
            "_view_module": "@jupyter-widgets/base",
            "_view_module_version": "1.2.0",
            "_view_name": "LayoutView",
            "align_content": null,
            "align_items": null,
            "align_self": null,
            "border": null,
            "bottom": null,
            "display": null,
            "flex": null,
            "flex_flow": null,
            "grid_area": null,
            "grid_auto_columns": null,
            "grid_auto_flow": null,
            "grid_auto_rows": null,
            "grid_column": null,
            "grid_gap": null,
            "grid_row": null,
            "grid_template_areas": null,
            "grid_template_columns": null,
            "grid_template_rows": null,
            "height": null,
            "justify_content": null,
            "justify_items": null,
            "left": null,
            "margin": null,
            "max_height": null,
            "max_width": null,
            "min_height": null,
            "min_width": null,
            "object_fit": null,
            "object_position": null,
            "order": null,
            "overflow": null,
            "overflow_x": null,
            "overflow_y": null,
            "padding": null,
            "right": null,
            "top": null,
            "visibility": null,
            "width": null
          }
        },
        "4ca2d1551f194dcb835ab7228e0294cb": {
          "model_module": "@jupyter-widgets/base",
          "model_module_version": "1.2.0",
          "model_name": "LayoutModel",
          "state": {
            "_model_module": "@jupyter-widgets/base",
            "_model_module_version": "1.2.0",
            "_model_name": "LayoutModel",
            "_view_count": null,
            "_view_module": "@jupyter-widgets/base",
            "_view_module_version": "1.2.0",
            "_view_name": "LayoutView",
            "align_content": null,
            "align_items": null,
            "align_self": null,
            "border": null,
            "bottom": null,
            "display": null,
            "flex": null,
            "flex_flow": null,
            "grid_area": null,
            "grid_auto_columns": null,
            "grid_auto_flow": null,
            "grid_auto_rows": null,
            "grid_column": null,
            "grid_gap": null,
            "grid_row": null,
            "grid_template_areas": null,
            "grid_template_columns": null,
            "grid_template_rows": null,
            "height": null,
            "justify_content": null,
            "justify_items": null,
            "left": null,
            "margin": null,
            "max_height": null,
            "max_width": null,
            "min_height": null,
            "min_width": null,
            "object_fit": null,
            "object_position": null,
            "order": null,
            "overflow": null,
            "overflow_x": null,
            "overflow_y": null,
            "padding": null,
            "right": null,
            "top": null,
            "visibility": null,
            "width": null
          }
        },
        "546eec29e6b8479a9a0a5e50dab788da": {
          "model_module": "@jupyter-widgets/controls",
          "model_module_version": "1.5.0",
          "model_name": "HTMLModel",
          "state": {
            "_dom_classes": [],
            "_model_module": "@jupyter-widgets/controls",
            "_model_module_version": "1.5.0",
            "_model_name": "HTMLModel",
            "_view_count": null,
            "_view_module": "@jupyter-widgets/controls",
            "_view_module_version": "1.5.0",
            "_view_name": "HTMLView",
            "description": "",
            "description_tooltip": null,
            "layout": "IPY_MODEL_4a2778d2aced4f14960000808ee714ca",
            "placeholder": "​",
            "style": "IPY_MODEL_849867dc1c4841da8c865038a1506c50",
            "value": " 1/4 [04:19&lt;12:59, 259.85s/it]"
          }
        },
        "70161bc71941406392884d92fe5cb496": {
          "model_module": "@jupyter-widgets/base",
          "model_module_version": "1.2.0",
          "model_name": "LayoutModel",
          "state": {
            "_model_module": "@jupyter-widgets/base",
            "_model_module_version": "1.2.0",
            "_model_name": "LayoutModel",
            "_view_count": null,
            "_view_module": "@jupyter-widgets/base",
            "_view_module_version": "1.2.0",
            "_view_name": "LayoutView",
            "align_content": null,
            "align_items": null,
            "align_self": null,
            "border": null,
            "bottom": null,
            "display": null,
            "flex": null,
            "flex_flow": null,
            "grid_area": null,
            "grid_auto_columns": null,
            "grid_auto_flow": null,
            "grid_auto_rows": null,
            "grid_column": null,
            "grid_gap": null,
            "grid_row": null,
            "grid_template_areas": null,
            "grid_template_columns": null,
            "grid_template_rows": null,
            "height": null,
            "justify_content": null,
            "justify_items": null,
            "left": null,
            "margin": null,
            "max_height": null,
            "max_width": null,
            "min_height": null,
            "min_width": null,
            "object_fit": null,
            "object_position": null,
            "order": null,
            "overflow": null,
            "overflow_x": null,
            "overflow_y": null,
            "padding": null,
            "right": null,
            "top": null,
            "visibility": null,
            "width": null
          }
        },
        "849867dc1c4841da8c865038a1506c50": {
          "model_module": "@jupyter-widgets/controls",
          "model_module_version": "1.5.0",
          "model_name": "DescriptionStyleModel",
          "state": {
            "_model_module": "@jupyter-widgets/controls",
            "_model_module_version": "1.5.0",
            "_model_name": "DescriptionStyleModel",
            "_view_count": null,
            "_view_module": "@jupyter-widgets/base",
            "_view_module_version": "1.2.0",
            "_view_name": "StyleView",
            "description_width": ""
          }
        },
        "9caf58b910134d64905ba967fae81a2f": {
          "model_module": "@jupyter-widgets/controls",
          "model_module_version": "1.5.0",
          "model_name": "ProgressStyleModel",
          "state": {
            "_model_module": "@jupyter-widgets/controls",
            "_model_module_version": "1.5.0",
            "_model_name": "ProgressStyleModel",
            "_view_count": null,
            "_view_module": "@jupyter-widgets/base",
            "_view_module_version": "1.2.0",
            "_view_name": "StyleView",
            "bar_color": null,
            "description_width": ""
          }
        },
        "ae6fd9287c3d41c2a3cf8c013fd3ddd6": {
          "model_module": "@jupyter-widgets/controls",
          "model_module_version": "1.5.0",
          "model_name": "FloatProgressModel",
          "state": {
            "_dom_classes": [],
            "_model_module": "@jupyter-widgets/controls",
            "_model_module_version": "1.5.0",
            "_model_name": "FloatProgressModel",
            "_view_count": null,
            "_view_module": "@jupyter-widgets/controls",
            "_view_module_version": "1.5.0",
            "_view_name": "ProgressView",
            "bar_style": "",
            "description": "",
            "description_tooltip": null,
            "layout": "IPY_MODEL_4ca2d1551f194dcb835ab7228e0294cb",
            "max": 4,
            "min": 0,
            "orientation": "horizontal",
            "style": "IPY_MODEL_9caf58b910134d64905ba967fae81a2f",
            "value": 1
          }
        },
        "b02e316e5e3745229ae3d67a69be738f": {
          "model_module": "@jupyter-widgets/controls",
          "model_module_version": "1.5.0",
          "model_name": "HTMLModel",
          "state": {
            "_dom_classes": [],
            "_model_module": "@jupyter-widgets/controls",
            "_model_module_version": "1.5.0",
            "_model_name": "HTMLModel",
            "_view_count": null,
            "_view_module": "@jupyter-widgets/controls",
            "_view_module_version": "1.5.0",
            "_view_name": "HTMLView",
            "description": "",
            "description_tooltip": null,
            "layout": "IPY_MODEL_70161bc71941406392884d92fe5cb496",
            "placeholder": "​",
            "style": "IPY_MODEL_d23d4b531713416e8923e3859fcc9470",
            "value": "Loading checkpoint shards:  25%"
          }
        },
        "d23d4b531713416e8923e3859fcc9470": {
          "model_module": "@jupyter-widgets/controls",
          "model_module_version": "1.5.0",
          "model_name": "DescriptionStyleModel",
          "state": {
            "_model_module": "@jupyter-widgets/controls",
            "_model_module_version": "1.5.0",
            "_model_name": "DescriptionStyleModel",
            "_view_count": null,
            "_view_module": "@jupyter-widgets/base",
            "_view_module_version": "1.2.0",
            "_view_name": "StyleView",
            "description_width": ""
          }
        }
      }
    }
  },
  "nbformat": 4,
  "nbformat_minor": 5
}
