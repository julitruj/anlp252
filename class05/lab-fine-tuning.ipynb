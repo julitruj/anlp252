{
 "cells": [
  {
   "cell_type": "markdown",
   "id": "bde00888",
   "metadata": {},
   "source": [
    "# Lab Fine tuning with HF\n"
   ]
  },
  {
   "cell_type": "code",
   "execution_count": null,
   "id": "8a3e5409",
   "metadata": {},
   "outputs": [],
   "source": [
    "# instalar las librerias\n",
    "# google colab ya las tiene\n",
    "!pip install -U transformers datasets evaluate accelerate bertviz torch torchvision torchaudio -q\n"
   ]
  },
  {
   "cell_type": "code",
   "execution_count": null,
   "id": "75077a55",
   "metadata": {},
   "outputs": [],
   "source": [
    "# esta no viene con google colab\n",
    "!pip install evaluate"
   ]
  },
  {
   "cell_type": "code",
   "execution_count": null,
   "id": "db8961ac",
   "metadata": {},
   "outputs": [],
   "source": [
    "from huggingface_hub import login\n",
    "\n",
    "# tu token\n",
    "login(\"hf_xxxxxxxxxxxxx\")\n"
   ]
  },
  {
   "cell_type": "code",
   "execution_count": null,
   "id": "b8f02a13",
   "metadata": {},
   "outputs": [],
   "source": [
    "from datasets import load_dataset\n",
    "from transformers import (AutoTokenizer, AutoModelForSequenceClassification,\n",
    "                          DataCollatorWithPadding, TrainingArguments, Trainer)\n",
    "import evaluate\n",
    "import numpy as np\n",
    "\n",
    "MODEL_ID = \"distilbert-base-uncased\"   # puedes usar uno multilingüe p.ej. \"dccuchile/bert-base-spanish-wwm-uncased\"\n",
    "\n",
    "# 1) Dataset (ejemplo: SST2 binario; cambia por tu dataset en español)\n",
    "ds = load_dataset(\"glue\", \"sst2\")\n",
    "ds = ds.rename_column(\"label\", \"labels\")  # Trainer espera \"labels\"\n",
    "\n",
    "# 2) Tokenizer\n",
    "tok = AutoTokenizer.from_pretrained(MODEL_ID)\n",
    "\n",
    "def preprocess(batch):\n",
    "    return tok(batch[\"sentence\"], truncation=True)\n",
    "\n",
    "ds_tok = ds.map(preprocess, batched=True, remove_columns=ds[\"train\"].column_names)\n",
    "\n",
    "# 3) Data collator\n",
    "collator = DataCollatorWithPadding(tokenizer=tok)\n",
    "\n",
    "# 4) Modelo con cabeza de clasificación (num_labels=2 para binario)\n",
    "model = AutoModelForSequenceClassification.from_pretrained(MODEL_ID, num_labels=2)\n",
    "\n",
    "# 5) Métricas\n",
    "metric = evaluate.load(\"glue\", \"sst2\")\n",
    "def compute_metrics(eval_pred):\n",
    "    logits, labels = eval_pred\n",
    "    preds = np.argmax(logits, axis=-1)\n",
    "    return metric.compute(predictions=preds, references=labels)\n",
    "\n",
    "# 6) Argumentos de entrenamiento\n",
    "args = TrainingArguments(\n",
    "    output_dir=\"out-clf\",\n",
    "    learning_rate=2e-5,\n",
    "    per_device_train_batch_size=16,\n",
    "    per_device_eval_batch_size=16,\n",
    "    num_train_epochs=3,\n",
    "    eval_strategy=\"epoch\",\n",
    "#    evaluation_strategy=\"epoch\",\n",
    "    save_strategy=\"epoch\",\n",
    "    load_best_model_at_end=True,\n",
    "    fp16=True\n",
    ")\n",
    "\n",
    "# 7) Trainer\n",
    "trainer = Trainer(\n",
    "    model=model,\n",
    "    args=args,\n",
    "    train_dataset=ds_tok[\"train\"],\n",
    "    eval_dataset=ds_tok[\"validation\"],\n",
    "    tokenizer=tok,\n",
    "    data_collator=collator,\n",
    "    compute_metrics=compute_metrics\n",
    ")\n",
    "\n",
    "# 8) Entrenar y evaluar\n",
    "trainer.train()\n",
    "eval_res = trainer.evaluate()\n",
    "print(eval_res)\n",
    "\n",
    "# 9) Guardar\n",
    "trainer.save_model(\"out-clf/best\")\n"
   ]
  },
  {
   "cell_type": "code",
   "execution_count": null,
   "id": "9b9a1913",
   "metadata": {},
   "outputs": [],
   "source": [
    "# Reto: QA extractivo\n",
    "from transformers import AutoModelForQuestionAnswering\n",
    "model = AutoModelForQuestionAnswering.from_pretrained(\"distilbert-base-uncased\")\n",
    "# Preprocesa con tokenizer(question, context, truncation=True, max_length=..., stride=..., return_overflowing_tokens=True, return_offsets_mapping=True)\n",
    "# Usa data collator por defecto o uno de QA; compute_metrics típico: EM/F1 (SQuAD).\n"
   ]
  },
  {
   "cell_type": "code",
   "execution_count": null,
   "id": "e0dade81",
   "metadata": {},
   "outputs": [],
   "source": [
    "# Reto: NER (token classification)\n",
    "\n",
    "from transformers import AutoModelForTokenClassification, DataCollatorForTokenClassification\n",
    "model = AutoModelForTokenClassification.from_pretrained(\"bert-base-cased\", num_labels=num_tags)\n",
    "collator = DataCollatorForTokenClassification(tokenizer)\n",
    "# Mapear etiquetas al nivel de tokens (manejo de subpalabras y -100 en especiales).\n"
   ]
  },
  {
   "cell_type": "code",
   "execution_count": null,
   "id": "becee06b",
   "metadata": {},
   "outputs": [],
   "source": [
    "# Traducción (seq2seq)\n",
    "\n",
    "from transformers import AutoModelForSeq2SeqLM, DataCollatorForSeq2Seq\n",
    "model = AutoModelForSeq2SeqLM.from_pretrained(\"Helsinki-NLP/opus-mt-en-es\")\n",
    "collator = DataCollatorForSeq2Seq(tokenizer, model=model)\n",
    "# Tokenizar con text/summary/translation format; compute_metrics con sacreBLEU, etc.\n"
   ]
  },
  {
   "cell_type": "markdown",
   "id": "13ee2a7a",
   "metadata": {},
   "source": [
    "## Fine-tuning en clasificación (SST-2, subconjunto)"
   ]
  },
  {
   "cell_type": "code",
   "execution_count": null,
   "id": "382cd746",
   "metadata": {},
   "outputs": [],
   "source": [
    "from transformers import AutoModelForSequenceClassification, TrainingArguments, Trainer, DataCollatorWithPadding\n",
    "import evaluate\n",
    "import random\n",
    "\n",
    "# Carga SST2 y reduce tamaño para demo rápida\n",
    "ds = load_dataset(\"glue\", \"sst2\")\n",
    "small_train = ds[\"train\"].shuffle(seed=42).select(range(200))   # 200 ejemplos\n",
    "small_val = ds[\"validation\"].shuffle(seed=42).select(range(200))\n",
    "\n",
    "checkpoint = \"bert-base-uncased\"\n",
    "tokenizer = AutoTokenizer.from_pretrained(checkpoint)\n",
    "\n",
    "def tokenize(ex):\n",
    "    return tokenizer(ex[\"sentence\"], truncation=True)\n",
    "\n",
    "small_train = small_train.map(tokenize, batched=True)\n",
    "small_val = small_val.map(tokenize, batched=True)\n",
    "\n",
    "num_labels = 2\n",
    "model = AutoModelForSequenceClassification.from_pretrained(checkpoint, num_labels=num_labels).to(device)\n",
    "\n",
    "data_collator = DataCollatorWithPadding(tokenizer=tokenizer)\n",
    "metric = evaluate.load(\"glue\", \"sst2\")\n",
    "\n",
    "def compute_metrics(eval_pred):\n",
    "    logits, labels = eval_pred\n",
    "    preds = np.argmax(logits, axis=-1)\n",
    "    return {\"accuracy\": (preds == labels).mean()}\n",
    "\n",
    "args = TrainingArguments(\n",
    "    output_dir=\"bert-sst2-demo\",\n",
    "    evaluation_strategy=\"epoch\",\n",
    "    save_strategy=\"no\",\n",
    "    learning_rate=2e-5,\n",
    "    per_device_train_batch_size=16,\n",
    "    per_device_eval_batch_size=16,\n",
    "    num_train_epochs=1,\n",
    "    weight_decay=0.01,\n",
    "    logging_steps=10,\n",
    "    fp16=torch.cuda.is_available(),\n",
    ")\n",
    "\n",
    "trainer = Trainer(\n",
    "    model=model,\n",
    "    args=args,\n",
    "    train_dataset=small_train,\n",
    "    eval_dataset=small_val,\n",
    "    tokenizer=tokenizer,\n",
    "    data_collator=data_collator,\n",
    "    compute_metrics=compute_metrics\n",
    ")\n",
    "\n",
    "trainer.train()\n",
    "eval_res = trainer.evaluate()\n",
    "eval_res\n"
   ]
  }
 ],
 "metadata": {
  "kernelspec": {
   "display_name": "cs224n",
   "language": "python",
   "name": "python3"
  },
  "language_info": {
   "codemirror_mode": {
    "name": "ipython",
    "version": 3
   },
   "file_extension": ".py",
   "mimetype": "text/x-python",
   "name": "python",
   "nbconvert_exporter": "python",
   "pygments_lexer": "ipython3",
   "version": "3.12.8"
  }
 },
 "nbformat": 4,
 "nbformat_minor": 5
}
